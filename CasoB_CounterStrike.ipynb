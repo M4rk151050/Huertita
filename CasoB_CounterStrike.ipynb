{
  "nbformat": 4,
  "nbformat_minor": 0,
  "metadata": {
    "colab": {
      "name": "CasoB_CounterStrike.ipynb",
      "provenance": [],
      "collapsed_sections": [],
      "authorship_tag": "ABX9TyNlva7NtrabIsYX6WwseEL3",
      "include_colab_link": true
    },
    "kernelspec": {
      "name": "python3",
      "display_name": "Python 3"
    },
    "language_info": {
      "name": "python"
    }
  },
  "cells": [
    {
      "cell_type": "markdown",
      "metadata": {
        "id": "view-in-github",
        "colab_type": "text"
      },
      "source": [
        "<a href=\"https://colab.research.google.com/github/M4rk151050/Huertita/blob/master/CasoB_CounterStrike.ipynb\" target=\"_parent\"><img src=\"https://colab.research.google.com/assets/colab-badge.svg\" alt=\"Open In Colab\"/></a>"
      ]
    },
    {
      "cell_type": "markdown",
      "metadata": {
        "id": "GmyADFdMVbfO"
      },
      "source": [
        "Para comenzar, importamos las librerías necesarias."
      ]
    },
    {
      "cell_type": "code",
      "metadata": {
        "id": "3E0x7OAwgHFJ"
      },
      "source": [
        "import numpy as np\n",
        "import pandas as pd\n",
        "import matplotlib.pyplot as plt\n",
        "import seaborn as sns"
      ],
      "execution_count": 1,
      "outputs": []
    },
    {
      "cell_type": "markdown",
      "metadata": {
        "id": "a6lvoGQnVyd7"
      },
      "source": [
        "Cargamos el archivo a trabajar que se encuentra de forma local en la computadora."
      ]
    },
    {
      "cell_type": "code",
      "metadata": {
        "colab": {
          "resources": {
            "http://localhost:8080/nbextensions/google.colab/files.js": {
              "data": "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",
              "ok": true,
              "headers": [
                [
                  "content-type",
                  "application/javascript"
                ]
              ],
              "status": 200,
              "status_text": ""
            }
          },
          "base_uri": "https://localhost:8080/",
          "height": 73
        },
        "id": "HZwFUicSg2KW",
        "outputId": "6927b554-71fc-4c8e-f729-21c0678c4501"
      },
      "source": [
        "from google.colab import files\n",
        "uploaded = files.upload()"
      ],
      "execution_count": 2,
      "outputs": [
        {
          "output_type": "display_data",
          "data": {
            "text/html": [
              "\n",
              "     <input type=\"file\" id=\"files-0e4c7510-826c-49da-aca0-dc2631616f88\" name=\"files[]\" multiple disabled\n",
              "        style=\"border:none\" />\n",
              "     <output id=\"result-0e4c7510-826c-49da-aca0-dc2631616f88\">\n",
              "      Upload widget is only available when the cell has been executed in the\n",
              "      current browser session. Please rerun this cell to enable.\n",
              "      </output>\n",
              "      <script src=\"/nbextensions/google.colab/files.js\"></script> "
            ],
            "text/plain": [
              "<IPython.core.display.HTML object>"
            ]
          },
          "metadata": {
            "tags": []
          }
        },
        {
          "output_type": "stream",
          "text": [
            "Saving Anexo Forma B_demo_round_traces.csv to Anexo Forma B_demo_round_traces.csv\n"
          ],
          "name": "stdout"
        }
      ]
    },
    {
      "cell_type": "markdown",
      "metadata": {
        "id": "QSbJHfoaWC1e"
      },
      "source": [
        "Luego de tener el Archivo cargado, lo ingresamos a una variable y creamos un DataFrame para leer el Archivo .csv"
      ]
    },
    {
      "cell_type": "code",
      "metadata": {
        "id": "b-K9vSD7g6I-"
      },
      "source": [
        "url = 'Anexo Forma B_demo_round_traces.csv'\n",
        "df = pd.read_csv(url, sep=';')"
      ],
      "execution_count": 3,
      "outputs": []
    },
    {
      "cell_type": "markdown",
      "metadata": {
        "id": "Bzg-ixqBWSLf"
      },
      "source": [
        "Para probar que se cargó correctamente, Mostraremos las 5 primeras observaciones con la función .head() del DataFrame."
      ]
    },
    {
      "cell_type": "code",
      "metadata": {
        "colab": {
          "base_uri": "https://localhost:8080/",
          "height": 227
        },
        "id": "kjAfFkhp7we_",
        "outputId": "4eb66f00-d021-4efa-a92e-e64415b488e2"
      },
      "source": [
        "df.head()"
      ],
      "execution_count": null,
      "outputs": [
        {
          "output_type": "execute_result",
          "data": {
            "text/html": [
              "<div>\n",
              "<style scoped>\n",
              "    .dataframe tbody tr th:only-of-type {\n",
              "        vertical-align: middle;\n",
              "    }\n",
              "\n",
              "    .dataframe tbody tr th {\n",
              "        vertical-align: top;\n",
              "    }\n",
              "\n",
              "    .dataframe thead th {\n",
              "        text-align: right;\n",
              "    }\n",
              "</style>\n",
              "<table border=\"1\" class=\"dataframe\">\n",
              "  <thead>\n",
              "    <tr style=\"text-align: right;\">\n",
              "      <th></th>\n",
              "      <th>Unnamed: 0</th>\n",
              "      <th>Map</th>\n",
              "      <th>Team</th>\n",
              "      <th>InternalTeamId</th>\n",
              "      <th>MatchId</th>\n",
              "      <th>RoundId</th>\n",
              "      <th>SteamId</th>\n",
              "      <th>RoundWinner</th>\n",
              "      <th>MatchWinner</th>\n",
              "      <th>Survived</th>\n",
              "      <th>AbnormalMatch</th>\n",
              "      <th>TimeAlive</th>\n",
              "      <th>ScaledTimeAlive</th>\n",
              "      <th>AvgCentroidDistance</th>\n",
              "      <th>TravelledDistance</th>\n",
              "      <th>AvgRoundVelocity</th>\n",
              "      <th>AvgKillDistance</th>\n",
              "      <th>AvgSiteDistance</th>\n",
              "      <th>RLethalGrenadesThrown</th>\n",
              "      <th>RNonLethalGrenadesThrown</th>\n",
              "      <th>PrimaryAssaultRifle</th>\n",
              "      <th>PrimarySniperRifle</th>\n",
              "      <th>PrimaryHeavy</th>\n",
              "      <th>PrimarySMG</th>\n",
              "      <th>PrimaryPistol</th>\n",
              "      <th>FirstKillTime</th>\n",
              "      <th>RoundKills</th>\n",
              "      <th>RoundAssists</th>\n",
              "      <th>RoundHeadshots</th>\n",
              "      <th>RoundFlankKills</th>\n",
              "      <th>RoundStartingEquipmentValue</th>\n",
              "      <th>TeamStartingEquipmentValue</th>\n",
              "      <th>MatchKills</th>\n",
              "      <th>MatchFlankKills</th>\n",
              "      <th>MatchAssists</th>\n",
              "      <th>MatchHeadshots</th>\n",
              "      <th>AvgMatchKillDist</th>\n",
              "    </tr>\n",
              "  </thead>\n",
              "  <tbody>\n",
              "    <tr>\n",
              "      <th>0</th>\n",
              "      <td>600</td>\n",
              "      <td>de_inferno</td>\n",
              "      <td>Terrorist</td>\n",
              "      <td>1</td>\n",
              "      <td>4</td>\n",
              "      <td>1</td>\n",
              "      <td>76561198036987787</td>\n",
              "      <td>False</td>\n",
              "      <td>True</td>\n",
              "      <td>False</td>\n",
              "      <td>False</td>\n",
              "      <td>51.120249</td>\n",
              "      <td>0.962309</td>\n",
              "      <td>322909.131476</td>\n",
              "      <td>100831.407375</td>\n",
              "      <td>123.567901</td>\n",
              "      <td>0.0</td>\n",
              "      <td>5.988405e+06</td>\n",
              "      <td>0</td>\n",
              "      <td>4</td>\n",
              "      <td>0.0</td>\n",
              "      <td>0.0</td>\n",
              "      <td>0.0</td>\n",
              "      <td>0.0</td>\n",
              "      <td>1</td>\n",
              "      <td>0.0</td>\n",
              "      <td>0</td>\n",
              "      <td>0</td>\n",
              "      <td>0</td>\n",
              "      <td>0</td>\n",
              "      <td>750</td>\n",
              "      <td>4400</td>\n",
              "      <td>0</td>\n",
              "      <td>0</td>\n",
              "      <td>0</td>\n",
              "      <td>0</td>\n",
              "      <td>501379.183091</td>\n",
              "    </tr>\n",
              "    <tr>\n",
              "      <th>1</th>\n",
              "      <td>601</td>\n",
              "      <td>de_inferno</td>\n",
              "      <td>Terrorist</td>\n",
              "      <td>1</td>\n",
              "      <td>4</td>\n",
              "      <td>1</td>\n",
              "      <td>76561197971812216</td>\n",
              "      <td>False</td>\n",
              "      <td>True</td>\n",
              "      <td>False</td>\n",
              "      <td>False</td>\n",
              "      <td>43.486626</td>\n",
              "      <td>0.818610</td>\n",
              "      <td>547137.458474</td>\n",
              "      <td>60960.883185</td>\n",
              "      <td>87.839889</td>\n",
              "      <td>0.0</td>\n",
              "      <td>5.415945e+06</td>\n",
              "      <td>0</td>\n",
              "      <td>0</td>\n",
              "      <td>0.0</td>\n",
              "      <td>0.0</td>\n",
              "      <td>0.0</td>\n",
              "      <td>0.0</td>\n",
              "      <td>1</td>\n",
              "      <td>0.0</td>\n",
              "      <td>0</td>\n",
              "      <td>0</td>\n",
              "      <td>0</td>\n",
              "      <td>0</td>\n",
              "      <td>800</td>\n",
              "      <td>4400</td>\n",
              "      <td>0</td>\n",
              "      <td>0</td>\n",
              "      <td>0</td>\n",
              "      <td>0</td>\n",
              "      <td>208807.587297</td>\n",
              "    </tr>\n",
              "    <tr>\n",
              "      <th>2</th>\n",
              "      <td>602</td>\n",
              "      <td>de_inferno</td>\n",
              "      <td>Terrorist</td>\n",
              "      <td>1</td>\n",
              "      <td>4</td>\n",
              "      <td>1</td>\n",
              "      <td>76561197972240652</td>\n",
              "      <td>False</td>\n",
              "      <td>True</td>\n",
              "      <td>False</td>\n",
              "      <td>False</td>\n",
              "      <td>37.354698</td>\n",
              "      <td>0.703180</td>\n",
              "      <td>0.000000</td>\n",
              "      <td>56422.523836</td>\n",
              "      <td>94.668664</td>\n",
              "      <td>0.0</td>\n",
              "      <td>6.658033e+06</td>\n",
              "      <td>0</td>\n",
              "      <td>0</td>\n",
              "      <td>0.0</td>\n",
              "      <td>0.0</td>\n",
              "      <td>0.0</td>\n",
              "      <td>0.0</td>\n",
              "      <td>1</td>\n",
              "      <td>0.0</td>\n",
              "      <td>0</td>\n",
              "      <td>0</td>\n",
              "      <td>0</td>\n",
              "      <td>0</td>\n",
              "      <td>1000</td>\n",
              "      <td>4400</td>\n",
              "      <td>0</td>\n",
              "      <td>0</td>\n",
              "      <td>0</td>\n",
              "      <td>0</td>\n",
              "      <td>381652.027911</td>\n",
              "    </tr>\n",
              "    <tr>\n",
              "      <th>3</th>\n",
              "      <td>603</td>\n",
              "      <td>de_inferno</td>\n",
              "      <td>Terrorist</td>\n",
              "      <td>1</td>\n",
              "      <td>4</td>\n",
              "      <td>1</td>\n",
              "      <td>76561197975824962</td>\n",
              "      <td>False</td>\n",
              "      <td>True</td>\n",
              "      <td>False</td>\n",
              "      <td>False</td>\n",
              "      <td>47.678861</td>\n",
              "      <td>0.897527</td>\n",
              "      <td>768923.179642</td>\n",
              "      <td>89634.733132</td>\n",
              "      <td>117.785457</td>\n",
              "      <td>0.0</td>\n",
              "      <td>5.364147e+06</td>\n",
              "      <td>0</td>\n",
              "      <td>0</td>\n",
              "      <td>0.0</td>\n",
              "      <td>0.0</td>\n",
              "      <td>0.0</td>\n",
              "      <td>0.0</td>\n",
              "      <td>1</td>\n",
              "      <td>0.0</td>\n",
              "      <td>0</td>\n",
              "      <td>0</td>\n",
              "      <td>0</td>\n",
              "      <td>0</td>\n",
              "      <td>850</td>\n",
              "      <td>4400</td>\n",
              "      <td>0</td>\n",
              "      <td>0</td>\n",
              "      <td>0</td>\n",
              "      <td>0</td>\n",
              "      <td>289754.503091</td>\n",
              "    </tr>\n",
              "    <tr>\n",
              "      <th>4</th>\n",
              "      <td>604</td>\n",
              "      <td>de_inferno</td>\n",
              "      <td>Terrorist</td>\n",
              "      <td>1</td>\n",
              "      <td>4</td>\n",
              "      <td>1</td>\n",
              "      <td>76561197960331095</td>\n",
              "      <td>False</td>\n",
              "      <td>True</td>\n",
              "      <td>True</td>\n",
              "      <td>False</td>\n",
              "      <td>53.122511</td>\n",
              "      <td>1.000000</td>\n",
              "      <td>202397.446775</td>\n",
              "      <td>108656.497344</td>\n",
              "      <td>128.132662</td>\n",
              "      <td>0.0</td>\n",
              "      <td>4.878228e+06</td>\n",
              "      <td>1</td>\n",
              "      <td>1</td>\n",
              "      <td>0.0</td>\n",
              "      <td>0.0</td>\n",
              "      <td>0.0</td>\n",
              "      <td>0.0</td>\n",
              "      <td>1</td>\n",
              "      <td>0.0</td>\n",
              "      <td>0</td>\n",
              "      <td>0</td>\n",
              "      <td>0</td>\n",
              "      <td>0</td>\n",
              "      <td>1000</td>\n",
              "      <td>4400</td>\n",
              "      <td>0</td>\n",
              "      <td>0</td>\n",
              "      <td>0</td>\n",
              "      <td>0</td>\n",
              "      <td>254527.691176</td>\n",
              "    </tr>\n",
              "  </tbody>\n",
              "</table>\n",
              "</div>"
            ],
            "text/plain": [
              "   Unnamed: 0         Map  ... MatchHeadshots  AvgMatchKillDist\n",
              "0         600  de_inferno  ...              0     501379.183091\n",
              "1         601  de_inferno  ...              0     208807.587297\n",
              "2         602  de_inferno  ...              0     381652.027911\n",
              "3         603  de_inferno  ...              0     289754.503091\n",
              "4         604  de_inferno  ...              0     254527.691176\n",
              "\n",
              "[5 rows x 37 columns]"
            ]
          },
          "metadata": {
            "tags": []
          },
          "execution_count": 4
        }
      ]
    },
    {
      "cell_type": "markdown",
      "metadata": {
        "id": "fT82vGSpWxuA"
      },
      "source": [
        "Vemos que tenemos una característica que nos sirve de nada llamada Unnamed: 0.\n",
        "Eliminaremos esta característica para limpiar el DataFrame."
      ]
    },
    {
      "cell_type": "code",
      "metadata": {
        "id": "H9kqDCSa821t"
      },
      "source": [
        "del df['Unnamed: 0']"
      ],
      "execution_count": 44,
      "outputs": []
    },
    {
      "cell_type": "code",
      "metadata": {
        "colab": {
          "base_uri": "https://localhost:8080/",
          "height": 211
        },
        "id": "wa2H2beC8-Q3",
        "outputId": "c53f1cca-eda1-4d20-86cc-9f27ead50c38"
      },
      "source": [
        "df.head()"
      ],
      "execution_count": null,
      "outputs": [
        {
          "output_type": "execute_result",
          "data": {
            "text/html": [
              "<div>\n",
              "<style scoped>\n",
              "    .dataframe tbody tr th:only-of-type {\n",
              "        vertical-align: middle;\n",
              "    }\n",
              "\n",
              "    .dataframe tbody tr th {\n",
              "        vertical-align: top;\n",
              "    }\n",
              "\n",
              "    .dataframe thead th {\n",
              "        text-align: right;\n",
              "    }\n",
              "</style>\n",
              "<table border=\"1\" class=\"dataframe\">\n",
              "  <thead>\n",
              "    <tr style=\"text-align: right;\">\n",
              "      <th></th>\n",
              "      <th>Map</th>\n",
              "      <th>Team</th>\n",
              "      <th>InternalTeamId</th>\n",
              "      <th>MatchId</th>\n",
              "      <th>RoundId</th>\n",
              "      <th>SteamId</th>\n",
              "      <th>RoundWinner</th>\n",
              "      <th>MatchWinner</th>\n",
              "      <th>Survived</th>\n",
              "      <th>AbnormalMatch</th>\n",
              "      <th>TimeAlive</th>\n",
              "      <th>ScaledTimeAlive</th>\n",
              "      <th>AvgCentroidDistance</th>\n",
              "      <th>TravelledDistance</th>\n",
              "      <th>AvgRoundVelocity</th>\n",
              "      <th>AvgKillDistance</th>\n",
              "      <th>AvgSiteDistance</th>\n",
              "      <th>RLethalGrenadesThrown</th>\n",
              "      <th>RNonLethalGrenadesThrown</th>\n",
              "      <th>PrimaryAssaultRifle</th>\n",
              "      <th>PrimarySniperRifle</th>\n",
              "      <th>PrimaryHeavy</th>\n",
              "      <th>PrimarySMG</th>\n",
              "      <th>PrimaryPistol</th>\n",
              "      <th>FirstKillTime</th>\n",
              "      <th>RoundKills</th>\n",
              "      <th>RoundAssists</th>\n",
              "      <th>RoundHeadshots</th>\n",
              "      <th>RoundFlankKills</th>\n",
              "      <th>RoundStartingEquipmentValue</th>\n",
              "      <th>TeamStartingEquipmentValue</th>\n",
              "      <th>MatchKills</th>\n",
              "      <th>MatchFlankKills</th>\n",
              "      <th>MatchAssists</th>\n",
              "      <th>MatchHeadshots</th>\n",
              "      <th>AvgMatchKillDist</th>\n",
              "    </tr>\n",
              "  </thead>\n",
              "  <tbody>\n",
              "    <tr>\n",
              "      <th>0</th>\n",
              "      <td>de_inferno</td>\n",
              "      <td>Terrorist</td>\n",
              "      <td>1</td>\n",
              "      <td>4</td>\n",
              "      <td>1</td>\n",
              "      <td>76561198036987787</td>\n",
              "      <td>False</td>\n",
              "      <td>True</td>\n",
              "      <td>False</td>\n",
              "      <td>False</td>\n",
              "      <td>51.120249</td>\n",
              "      <td>0.962309</td>\n",
              "      <td>322909.131476</td>\n",
              "      <td>100831.407375</td>\n",
              "      <td>123.567901</td>\n",
              "      <td>0.0</td>\n",
              "      <td>5.988405e+06</td>\n",
              "      <td>0</td>\n",
              "      <td>4</td>\n",
              "      <td>0.0</td>\n",
              "      <td>0.0</td>\n",
              "      <td>0.0</td>\n",
              "      <td>0.0</td>\n",
              "      <td>1</td>\n",
              "      <td>0.0</td>\n",
              "      <td>0</td>\n",
              "      <td>0</td>\n",
              "      <td>0</td>\n",
              "      <td>0</td>\n",
              "      <td>750</td>\n",
              "      <td>4400</td>\n",
              "      <td>0</td>\n",
              "      <td>0</td>\n",
              "      <td>0</td>\n",
              "      <td>0</td>\n",
              "      <td>501379.183091</td>\n",
              "    </tr>\n",
              "    <tr>\n",
              "      <th>1</th>\n",
              "      <td>de_inferno</td>\n",
              "      <td>Terrorist</td>\n",
              "      <td>1</td>\n",
              "      <td>4</td>\n",
              "      <td>1</td>\n",
              "      <td>76561197971812216</td>\n",
              "      <td>False</td>\n",
              "      <td>True</td>\n",
              "      <td>False</td>\n",
              "      <td>False</td>\n",
              "      <td>43.486626</td>\n",
              "      <td>0.818610</td>\n",
              "      <td>547137.458474</td>\n",
              "      <td>60960.883185</td>\n",
              "      <td>87.839889</td>\n",
              "      <td>0.0</td>\n",
              "      <td>5.415945e+06</td>\n",
              "      <td>0</td>\n",
              "      <td>0</td>\n",
              "      <td>0.0</td>\n",
              "      <td>0.0</td>\n",
              "      <td>0.0</td>\n",
              "      <td>0.0</td>\n",
              "      <td>1</td>\n",
              "      <td>0.0</td>\n",
              "      <td>0</td>\n",
              "      <td>0</td>\n",
              "      <td>0</td>\n",
              "      <td>0</td>\n",
              "      <td>800</td>\n",
              "      <td>4400</td>\n",
              "      <td>0</td>\n",
              "      <td>0</td>\n",
              "      <td>0</td>\n",
              "      <td>0</td>\n",
              "      <td>208807.587297</td>\n",
              "    </tr>\n",
              "    <tr>\n",
              "      <th>2</th>\n",
              "      <td>de_inferno</td>\n",
              "      <td>Terrorist</td>\n",
              "      <td>1</td>\n",
              "      <td>4</td>\n",
              "      <td>1</td>\n",
              "      <td>76561197972240652</td>\n",
              "      <td>False</td>\n",
              "      <td>True</td>\n",
              "      <td>False</td>\n",
              "      <td>False</td>\n",
              "      <td>37.354698</td>\n",
              "      <td>0.703180</td>\n",
              "      <td>0.000000</td>\n",
              "      <td>56422.523836</td>\n",
              "      <td>94.668664</td>\n",
              "      <td>0.0</td>\n",
              "      <td>6.658033e+06</td>\n",
              "      <td>0</td>\n",
              "      <td>0</td>\n",
              "      <td>0.0</td>\n",
              "      <td>0.0</td>\n",
              "      <td>0.0</td>\n",
              "      <td>0.0</td>\n",
              "      <td>1</td>\n",
              "      <td>0.0</td>\n",
              "      <td>0</td>\n",
              "      <td>0</td>\n",
              "      <td>0</td>\n",
              "      <td>0</td>\n",
              "      <td>1000</td>\n",
              "      <td>4400</td>\n",
              "      <td>0</td>\n",
              "      <td>0</td>\n",
              "      <td>0</td>\n",
              "      <td>0</td>\n",
              "      <td>381652.027911</td>\n",
              "    </tr>\n",
              "    <tr>\n",
              "      <th>3</th>\n",
              "      <td>de_inferno</td>\n",
              "      <td>Terrorist</td>\n",
              "      <td>1</td>\n",
              "      <td>4</td>\n",
              "      <td>1</td>\n",
              "      <td>76561197975824962</td>\n",
              "      <td>False</td>\n",
              "      <td>True</td>\n",
              "      <td>False</td>\n",
              "      <td>False</td>\n",
              "      <td>47.678861</td>\n",
              "      <td>0.897527</td>\n",
              "      <td>768923.179642</td>\n",
              "      <td>89634.733132</td>\n",
              "      <td>117.785457</td>\n",
              "      <td>0.0</td>\n",
              "      <td>5.364147e+06</td>\n",
              "      <td>0</td>\n",
              "      <td>0</td>\n",
              "      <td>0.0</td>\n",
              "      <td>0.0</td>\n",
              "      <td>0.0</td>\n",
              "      <td>0.0</td>\n",
              "      <td>1</td>\n",
              "      <td>0.0</td>\n",
              "      <td>0</td>\n",
              "      <td>0</td>\n",
              "      <td>0</td>\n",
              "      <td>0</td>\n",
              "      <td>850</td>\n",
              "      <td>4400</td>\n",
              "      <td>0</td>\n",
              "      <td>0</td>\n",
              "      <td>0</td>\n",
              "      <td>0</td>\n",
              "      <td>289754.503091</td>\n",
              "    </tr>\n",
              "    <tr>\n",
              "      <th>4</th>\n",
              "      <td>de_inferno</td>\n",
              "      <td>Terrorist</td>\n",
              "      <td>1</td>\n",
              "      <td>4</td>\n",
              "      <td>1</td>\n",
              "      <td>76561197960331095</td>\n",
              "      <td>False</td>\n",
              "      <td>True</td>\n",
              "      <td>True</td>\n",
              "      <td>False</td>\n",
              "      <td>53.122511</td>\n",
              "      <td>1.000000</td>\n",
              "      <td>202397.446775</td>\n",
              "      <td>108656.497344</td>\n",
              "      <td>128.132662</td>\n",
              "      <td>0.0</td>\n",
              "      <td>4.878228e+06</td>\n",
              "      <td>1</td>\n",
              "      <td>1</td>\n",
              "      <td>0.0</td>\n",
              "      <td>0.0</td>\n",
              "      <td>0.0</td>\n",
              "      <td>0.0</td>\n",
              "      <td>1</td>\n",
              "      <td>0.0</td>\n",
              "      <td>0</td>\n",
              "      <td>0</td>\n",
              "      <td>0</td>\n",
              "      <td>0</td>\n",
              "      <td>1000</td>\n",
              "      <td>4400</td>\n",
              "      <td>0</td>\n",
              "      <td>0</td>\n",
              "      <td>0</td>\n",
              "      <td>0</td>\n",
              "      <td>254527.691176</td>\n",
              "    </tr>\n",
              "  </tbody>\n",
              "</table>\n",
              "</div>"
            ],
            "text/plain": [
              "          Map       Team  ...  MatchHeadshots  AvgMatchKillDist\n",
              "0  de_inferno  Terrorist  ...               0     501379.183091\n",
              "1  de_inferno  Terrorist  ...               0     208807.587297\n",
              "2  de_inferno  Terrorist  ...               0     381652.027911\n",
              "3  de_inferno  Terrorist  ...               0     289754.503091\n",
              "4  de_inferno  Terrorist  ...               0     254527.691176\n",
              "\n",
              "[5 rows x 36 columns]"
            ]
          },
          "metadata": {
            "tags": []
          },
          "execution_count": 6
        }
      ]
    },
    {
      "cell_type": "markdown",
      "metadata": {
        "id": "UKUyiZfLXLyZ"
      },
      "source": [
        "También podemos mostrar las últimas 5 observaciones y ver el total de las mismas."
      ]
    },
    {
      "cell_type": "code",
      "metadata": {
        "colab": {
          "base_uri": "https://localhost:8080/",
          "height": 211
        },
        "id": "EQk5rb4HT2fP",
        "outputId": "b3f7772c-c3e3-4d6c-9f3d-31d3fb0fbe45"
      },
      "source": [
        "df.tail()"
      ],
      "execution_count": null,
      "outputs": [
        {
          "output_type": "execute_result",
          "data": {
            "text/html": [
              "<div>\n",
              "<style scoped>\n",
              "    .dataframe tbody tr th:only-of-type {\n",
              "        vertical-align: middle;\n",
              "    }\n",
              "\n",
              "    .dataframe tbody tr th {\n",
              "        vertical-align: top;\n",
              "    }\n",
              "\n",
              "    .dataframe thead th {\n",
              "        text-align: right;\n",
              "    }\n",
              "</style>\n",
              "<table border=\"1\" class=\"dataframe\">\n",
              "  <thead>\n",
              "    <tr style=\"text-align: right;\">\n",
              "      <th></th>\n",
              "      <th>Map</th>\n",
              "      <th>Team</th>\n",
              "      <th>InternalTeamId</th>\n",
              "      <th>MatchId</th>\n",
              "      <th>RoundId</th>\n",
              "      <th>SteamId</th>\n",
              "      <th>RoundWinner</th>\n",
              "      <th>MatchWinner</th>\n",
              "      <th>Survived</th>\n",
              "      <th>AbnormalMatch</th>\n",
              "      <th>TimeAlive</th>\n",
              "      <th>ScaledTimeAlive</th>\n",
              "      <th>AvgCentroidDistance</th>\n",
              "      <th>TravelledDistance</th>\n",
              "      <th>AvgRoundVelocity</th>\n",
              "      <th>AvgKillDistance</th>\n",
              "      <th>AvgSiteDistance</th>\n",
              "      <th>RLethalGrenadesThrown</th>\n",
              "      <th>RNonLethalGrenadesThrown</th>\n",
              "      <th>PrimaryAssaultRifle</th>\n",
              "      <th>PrimarySniperRifle</th>\n",
              "      <th>PrimaryHeavy</th>\n",
              "      <th>PrimarySMG</th>\n",
              "      <th>PrimaryPistol</th>\n",
              "      <th>FirstKillTime</th>\n",
              "      <th>RoundKills</th>\n",
              "      <th>RoundAssists</th>\n",
              "      <th>RoundHeadshots</th>\n",
              "      <th>RoundFlankKills</th>\n",
              "      <th>RoundStartingEquipmentValue</th>\n",
              "      <th>TeamStartingEquipmentValue</th>\n",
              "      <th>MatchKills</th>\n",
              "      <th>MatchFlankKills</th>\n",
              "      <th>MatchAssists</th>\n",
              "      <th>MatchHeadshots</th>\n",
              "      <th>AvgMatchKillDist</th>\n",
              "    </tr>\n",
              "  </thead>\n",
              "  <tbody>\n",
              "    <tr>\n",
              "      <th>79152</th>\n",
              "      <td>de_mirage</td>\n",
              "      <td>CounterTerrorist</td>\n",
              "      <td>2</td>\n",
              "      <td>511</td>\n",
              "      <td>5</td>\n",
              "      <td>76561198024905796</td>\n",
              "      <td>False</td>\n",
              "      <td>False</td>\n",
              "      <td>False</td>\n",
              "      <td>False</td>\n",
              "      <td>34.027207</td>\n",
              "      <td>0.425085</td>\n",
              "      <td>0.000000e+00</td>\n",
              "      <td>40481.778529</td>\n",
              "      <td>46.530780</td>\n",
              "      <td>0.000000</td>\n",
              "      <td>1.370955e+06</td>\n",
              "      <td>1</td>\n",
              "      <td>1</td>\n",
              "      <td>1.0</td>\n",
              "      <td>0.0</td>\n",
              "      <td>0.0</td>\n",
              "      <td>0.0</td>\n",
              "      <td>0</td>\n",
              "      <td>22.775960</td>\n",
              "      <td>0</td>\n",
              "      <td>0</td>\n",
              "      <td>0</td>\n",
              "      <td>0</td>\n",
              "      <td>5600</td>\n",
              "      <td>27100</td>\n",
              "      <td>4</td>\n",
              "      <td>0</td>\n",
              "      <td>2</td>\n",
              "      <td>2</td>\n",
              "      <td>768003.878843</td>\n",
              "    </tr>\n",
              "    <tr>\n",
              "      <th>79153</th>\n",
              "      <td>de_mirage</td>\n",
              "      <td>CounterTerrorist</td>\n",
              "      <td>2</td>\n",
              "      <td>511</td>\n",
              "      <td>5</td>\n",
              "      <td>76561198000020858</td>\n",
              "      <td>False</td>\n",
              "      <td>False</td>\n",
              "      <td>False</td>\n",
              "      <td>False</td>\n",
              "      <td>29.261054</td>\n",
              "      <td>0.365544</td>\n",
              "      <td>0.000000e+00</td>\n",
              "      <td>32134.776126</td>\n",
              "      <td>42.960931</td>\n",
              "      <td>109345.366682</td>\n",
              "      <td>1.223142e+06</td>\n",
              "      <td>0</td>\n",
              "      <td>0</td>\n",
              "      <td>1.0</td>\n",
              "      <td>0.0</td>\n",
              "      <td>0.0</td>\n",
              "      <td>0.0</td>\n",
              "      <td>0</td>\n",
              "      <td>28.714119</td>\n",
              "      <td>1</td>\n",
              "      <td>0</td>\n",
              "      <td>1</td>\n",
              "      <td>0</td>\n",
              "      <td>5500</td>\n",
              "      <td>27100</td>\n",
              "      <td>8</td>\n",
              "      <td>5</td>\n",
              "      <td>1</td>\n",
              "      <td>3</td>\n",
              "      <td>692262.605640</td>\n",
              "    </tr>\n",
              "    <tr>\n",
              "      <th>79154</th>\n",
              "      <td>de_mirage</td>\n",
              "      <td>CounterTerrorist</td>\n",
              "      <td>2</td>\n",
              "      <td>511</td>\n",
              "      <td>5</td>\n",
              "      <td>76561198013485667</td>\n",
              "      <td>False</td>\n",
              "      <td>False</td>\n",
              "      <td>False</td>\n",
              "      <td>False</td>\n",
              "      <td>59.147178</td>\n",
              "      <td>0.738897</td>\n",
              "      <td>2.279624e+06</td>\n",
              "      <td>60051.689383</td>\n",
              "      <td>39.690475</td>\n",
              "      <td>0.000000</td>\n",
              "      <td>9.462262e+05</td>\n",
              "      <td>1</td>\n",
              "      <td>1</td>\n",
              "      <td>1.0</td>\n",
              "      <td>0.0</td>\n",
              "      <td>0.0</td>\n",
              "      <td>0.0</td>\n",
              "      <td>0</td>\n",
              "      <td>29.768923</td>\n",
              "      <td>0</td>\n",
              "      <td>0</td>\n",
              "      <td>0</td>\n",
              "      <td>0</td>\n",
              "      <td>4950</td>\n",
              "      <td>27100</td>\n",
              "      <td>5</td>\n",
              "      <td>0</td>\n",
              "      <td>2</td>\n",
              "      <td>3</td>\n",
              "      <td>161310.783653</td>\n",
              "    </tr>\n",
              "    <tr>\n",
              "      <th>79155</th>\n",
              "      <td>de_mirage</td>\n",
              "      <td>CounterTerrorist</td>\n",
              "      <td>2</td>\n",
              "      <td>511</td>\n",
              "      <td>5</td>\n",
              "      <td>76561197972003061</td>\n",
              "      <td>False</td>\n",
              "      <td>False</td>\n",
              "      <td>False</td>\n",
              "      <td>False</td>\n",
              "      <td>42.582843</td>\n",
              "      <td>0.531967</td>\n",
              "      <td>1.502696e+06</td>\n",
              "      <td>27987.628542</td>\n",
              "      <td>25.700302</td>\n",
              "      <td>0.000000</td>\n",
              "      <td>1.218743e+06</td>\n",
              "      <td>0</td>\n",
              "      <td>2</td>\n",
              "      <td>0.0</td>\n",
              "      <td>1.0</td>\n",
              "      <td>0.0</td>\n",
              "      <td>0.0</td>\n",
              "      <td>0</td>\n",
              "      <td>75.281780</td>\n",
              "      <td>0</td>\n",
              "      <td>0</td>\n",
              "      <td>0</td>\n",
              "      <td>0</td>\n",
              "      <td>4950</td>\n",
              "      <td>27100</td>\n",
              "      <td>1</td>\n",
              "      <td>0</td>\n",
              "      <td>1</td>\n",
              "      <td>0</td>\n",
              "      <td>984575.199373</td>\n",
              "    </tr>\n",
              "    <tr>\n",
              "      <th>79156</th>\n",
              "      <td>de_mirage</td>\n",
              "      <td>CounterTerrorist</td>\n",
              "      <td>2</td>\n",
              "      <td>511</td>\n",
              "      <td>5</td>\n",
              "      <td>76561197989744167</td>\n",
              "      <td>False</td>\n",
              "      <td>False</td>\n",
              "      <td>True</td>\n",
              "      <td>False</td>\n",
              "      <td>80.047931</td>\n",
              "      <td>1.000000</td>\n",
              "      <td>1.846960e+06</td>\n",
              "      <td>98677.247087</td>\n",
              "      <td>48.182250</td>\n",
              "      <td>764092.209992</td>\n",
              "      <td>1.082910e+06</td>\n",
              "      <td>2</td>\n",
              "      <td>1</td>\n",
              "      <td>1.0</td>\n",
              "      <td>0.0</td>\n",
              "      <td>0.0</td>\n",
              "      <td>0.0</td>\n",
              "      <td>0</td>\n",
              "      <td>43.872047</td>\n",
              "      <td>4</td>\n",
              "      <td>0</td>\n",
              "      <td>2</td>\n",
              "      <td>0</td>\n",
              "      <td>6100</td>\n",
              "      <td>27100</td>\n",
              "      <td>5</td>\n",
              "      <td>1</td>\n",
              "      <td>1</td>\n",
              "      <td>2</td>\n",
              "      <td>633305.796231</td>\n",
              "    </tr>\n",
              "  </tbody>\n",
              "</table>\n",
              "</div>"
            ],
            "text/plain": [
              "             Map              Team  ...  MatchHeadshots  AvgMatchKillDist\n",
              "79152  de_mirage  CounterTerrorist  ...               2     768003.878843\n",
              "79153  de_mirage  CounterTerrorist  ...               3     692262.605640\n",
              "79154  de_mirage  CounterTerrorist  ...               3     161310.783653\n",
              "79155  de_mirage  CounterTerrorist  ...               0     984575.199373\n",
              "79156  de_mirage  CounterTerrorist  ...               2     633305.796231\n",
              "\n",
              "[5 rows x 36 columns]"
            ]
          },
          "metadata": {
            "tags": []
          },
          "execution_count": 42
        }
      ]
    },
    {
      "cell_type": "code",
      "metadata": {
        "id": "oYgV0Lb8TS_t"
      },
      "source": [
        "df.info()"
      ],
      "execution_count": null,
      "outputs": []
    },
    {
      "cell_type": "markdown",
      "metadata": {
        "id": "FSt31alCXZtx"
      },
      "source": [
        "Con la función .Describe vemos varios datos importantes como el total de datos, la media, la desviación estandar, el valor más bajo, los cuartiles 25%, 50% y 75% y el dato con el valor más alto. El Valor del Cuartil 50% también puede ser interpretado como la mediana. "
      ]
    },
    {
      "cell_type": "code",
      "metadata": {
        "colab": {
          "base_uri": "https://localhost:8080/",
          "height": 307
        },
        "id": "f64ZFhK9KdKr",
        "outputId": "8f69dac5-ca7e-473d-e27c-ce3ca788c8fd"
      },
      "source": [
        "df.describe()"
      ],
      "execution_count": 76,
      "outputs": [
        {
          "output_type": "execute_result",
          "data": {
            "text/html": [
              "<div>\n",
              "<style scoped>\n",
              "    .dataframe tbody tr th:only-of-type {\n",
              "        vertical-align: middle;\n",
              "    }\n",
              "\n",
              "    .dataframe tbody tr th {\n",
              "        vertical-align: top;\n",
              "    }\n",
              "\n",
              "    .dataframe thead th {\n",
              "        text-align: right;\n",
              "    }\n",
              "</style>\n",
              "<table border=\"1\" class=\"dataframe\">\n",
              "  <thead>\n",
              "    <tr style=\"text-align: right;\">\n",
              "      <th></th>\n",
              "      <th>InternalTeamId</th>\n",
              "      <th>MatchId</th>\n",
              "      <th>RoundId</th>\n",
              "      <th>SteamId</th>\n",
              "      <th>TimeAlive</th>\n",
              "      <th>ScaledTimeAlive</th>\n",
              "      <th>AvgCentroidDistance</th>\n",
              "      <th>TravelledDistance</th>\n",
              "      <th>AvgRoundVelocity</th>\n",
              "      <th>AvgKillDistance</th>\n",
              "      <th>AvgSiteDistance</th>\n",
              "      <th>RLethalGrenadesThrown</th>\n",
              "      <th>RNonLethalGrenadesThrown</th>\n",
              "      <th>PrimaryAssaultRifle</th>\n",
              "      <th>PrimarySniperRifle</th>\n",
              "      <th>PrimaryHeavy</th>\n",
              "      <th>PrimarySMG</th>\n",
              "      <th>PrimaryPistol</th>\n",
              "      <th>FirstKillTime</th>\n",
              "      <th>RoundKills</th>\n",
              "      <th>RoundAssists</th>\n",
              "      <th>RoundHeadshots</th>\n",
              "      <th>RoundFlankKills</th>\n",
              "      <th>RoundStartingEquipmentValue</th>\n",
              "      <th>TeamStartingEquipmentValue</th>\n",
              "      <th>MatchKills</th>\n",
              "      <th>MatchFlankKills</th>\n",
              "      <th>MatchAssists</th>\n",
              "      <th>MatchHeadshots</th>\n",
              "      <th>AvgMatchKillDist</th>\n",
              "    </tr>\n",
              "  </thead>\n",
              "  <tbody>\n",
              "    <tr>\n",
              "      <th>count</th>\n",
              "      <td>79157.000000</td>\n",
              "      <td>79157.000000</td>\n",
              "      <td>79157.000000</td>\n",
              "      <td>7.915700e+04</td>\n",
              "      <td>79157.000000</td>\n",
              "      <td>79157.000000</td>\n",
              "      <td>7.915700e+04</td>\n",
              "      <td>7.915700e+04</td>\n",
              "      <td>79157.000000</td>\n",
              "      <td>7.915700e+04</td>\n",
              "      <td>7.915700e+04</td>\n",
              "      <td>79157.000000</td>\n",
              "      <td>79157.000000</td>\n",
              "      <td>79157.000000</td>\n",
              "      <td>79157.000000</td>\n",
              "      <td>79157.000000</td>\n",
              "      <td>79157.000000</td>\n",
              "      <td>79157.000000</td>\n",
              "      <td>79157.000000</td>\n",
              "      <td>79157.000000</td>\n",
              "      <td>79157.000000</td>\n",
              "      <td>79157.000000</td>\n",
              "      <td>79157.000000</td>\n",
              "      <td>79157.000000</td>\n",
              "      <td>79157.000000</td>\n",
              "      <td>79157.000000</td>\n",
              "      <td>79157.000000</td>\n",
              "      <td>79157.000000</td>\n",
              "      <td>79157.000000</td>\n",
              "      <td>7.915700e+04</td>\n",
              "    </tr>\n",
              "    <tr>\n",
              "      <th>mean</th>\n",
              "      <td>1.500006</td>\n",
              "      <td>250.525033</td>\n",
              "      <td>12.765517</td>\n",
              "      <td>7.656120e+16</td>\n",
              "      <td>72.795720</td>\n",
              "      <td>0.829561</td>\n",
              "      <td>1.122538e+06</td>\n",
              "      <td>1.041888e+05</td>\n",
              "      <td>84.351773</td>\n",
              "      <td>2.880379e+05</td>\n",
              "      <td>2.828657e+06</td>\n",
              "      <td>0.498667</td>\n",
              "      <td>1.258057</td>\n",
              "      <td>0.675363</td>\n",
              "      <td>0.089840</td>\n",
              "      <td>0.005964</td>\n",
              "      <td>0.007046</td>\n",
              "      <td>0.221787</td>\n",
              "      <td>58.066821</td>\n",
              "      <td>0.671349</td>\n",
              "      <td>0.146178</td>\n",
              "      <td>0.301553</td>\n",
              "      <td>0.095633</td>\n",
              "      <td>3778.108695</td>\n",
              "      <td>18890.133532</td>\n",
              "      <td>8.511578</td>\n",
              "      <td>1.209912</td>\n",
              "      <td>1.874831</td>\n",
              "      <td>3.858484</td>\n",
              "      <td>6.288927e+05</td>\n",
              "    </tr>\n",
              "    <tr>\n",
              "      <th>std</th>\n",
              "      <td>0.500003</td>\n",
              "      <td>149.557804</td>\n",
              "      <td>7.432837</td>\n",
              "      <td>3.342137e+07</td>\n",
              "      <td>48.321035</td>\n",
              "      <td>0.210842</td>\n",
              "      <td>1.134700e+06</td>\n",
              "      <td>3.543487e+05</td>\n",
              "      <td>171.890139</td>\n",
              "      <td>6.036307e+05</td>\n",
              "      <td>1.528175e+06</td>\n",
              "      <td>0.597985</td>\n",
              "      <td>1.184909</td>\n",
              "      <td>0.464125</td>\n",
              "      <td>0.279797</td>\n",
              "      <td>0.075497</td>\n",
              "      <td>0.082453</td>\n",
              "      <td>0.415451</td>\n",
              "      <td>32.424435</td>\n",
              "      <td>0.881798</td>\n",
              "      <td>0.385601</td>\n",
              "      <td>0.578843</td>\n",
              "      <td>0.320641</td>\n",
              "      <td>2111.285406</td>\n",
              "      <td>9743.203024</td>\n",
              "      <td>6.195079</td>\n",
              "      <td>1.435150</td>\n",
              "      <td>1.824027</td>\n",
              "      <td>3.246752</td>\n",
              "      <td>3.402574e+05</td>\n",
              "    </tr>\n",
              "    <tr>\n",
              "      <th>min</th>\n",
              "      <td>1.000000</td>\n",
              "      <td>4.000000</td>\n",
              "      <td>1.000000</td>\n",
              "      <td>7.656120e+16</td>\n",
              "      <td>0.000000</td>\n",
              "      <td>0.000000</td>\n",
              "      <td>0.000000e+00</td>\n",
              "      <td>0.000000e+00</td>\n",
              "      <td>0.000000</td>\n",
              "      <td>0.000000e+00</td>\n",
              "      <td>0.000000e+00</td>\n",
              "      <td>0.000000</td>\n",
              "      <td>0.000000</td>\n",
              "      <td>0.000000</td>\n",
              "      <td>0.000000</td>\n",
              "      <td>0.000000</td>\n",
              "      <td>0.000000</td>\n",
              "      <td>0.000000</td>\n",
              "      <td>0.000000</td>\n",
              "      <td>0.000000</td>\n",
              "      <td>0.000000</td>\n",
              "      <td>0.000000</td>\n",
              "      <td>0.000000</td>\n",
              "      <td>0.000000</td>\n",
              "      <td>0.000000</td>\n",
              "      <td>0.000000</td>\n",
              "      <td>0.000000</td>\n",
              "      <td>0.000000</td>\n",
              "      <td>0.000000</td>\n",
              "      <td>0.000000e+00</td>\n",
              "    </tr>\n",
              "    <tr>\n",
              "      <th>25%</th>\n",
              "      <td>1.000000</td>\n",
              "      <td>128.000000</td>\n",
              "      <td>6.000000</td>\n",
              "      <td>7.656120e+16</td>\n",
              "      <td>47.080072</td>\n",
              "      <td>0.698892</td>\n",
              "      <td>2.578825e+05</td>\n",
              "      <td>5.898255e+04</td>\n",
              "      <td>56.202641</td>\n",
              "      <td>0.000000e+00</td>\n",
              "      <td>1.508095e+06</td>\n",
              "      <td>0.000000</td>\n",
              "      <td>0.000000</td>\n",
              "      <td>0.000000</td>\n",
              "      <td>0.000000</td>\n",
              "      <td>0.000000</td>\n",
              "      <td>0.000000</td>\n",
              "      <td>0.000000</td>\n",
              "      <td>36.273243</td>\n",
              "      <td>0.000000</td>\n",
              "      <td>0.000000</td>\n",
              "      <td>0.000000</td>\n",
              "      <td>0.000000</td>\n",
              "      <td>1600.000000</td>\n",
              "      <td>10900.000000</td>\n",
              "      <td>3.000000</td>\n",
              "      <td>0.000000</td>\n",
              "      <td>0.000000</td>\n",
              "      <td>1.000000</td>\n",
              "      <td>4.097790e+05</td>\n",
              "    </tr>\n",
              "    <tr>\n",
              "      <th>50%</th>\n",
              "      <td>2.000000</td>\n",
              "      <td>236.000000</td>\n",
              "      <td>12.000000</td>\n",
              "      <td>7.656120e+16</td>\n",
              "      <td>69.239615</td>\n",
              "      <td>0.922777</td>\n",
              "      <td>7.409804e+05</td>\n",
              "      <td>8.601557e+04</td>\n",
              "      <td>83.617316</td>\n",
              "      <td>0.000000e+00</td>\n",
              "      <td>2.699214e+06</td>\n",
              "      <td>0.000000</td>\n",
              "      <td>1.000000</td>\n",
              "      <td>1.000000</td>\n",
              "      <td>0.000000</td>\n",
              "      <td>0.000000</td>\n",
              "      <td>0.000000</td>\n",
              "      <td>0.000000</td>\n",
              "      <td>54.774193</td>\n",
              "      <td>0.000000</td>\n",
              "      <td>0.000000</td>\n",
              "      <td>0.000000</td>\n",
              "      <td>0.000000</td>\n",
              "      <td>4700.000000</td>\n",
              "      <td>22550.000000</td>\n",
              "      <td>8.000000</td>\n",
              "      <td>1.000000</td>\n",
              "      <td>1.000000</td>\n",
              "      <td>3.000000</td>\n",
              "      <td>5.542432e+05</td>\n",
              "    </tr>\n",
              "    <tr>\n",
              "      <th>75%</th>\n",
              "      <td>2.000000</td>\n",
              "      <td>373.000000</td>\n",
              "      <td>19.000000</td>\n",
              "      <td>7.656120e+16</td>\n",
              "      <td>92.647813</td>\n",
              "      <td>1.000000</td>\n",
              "      <td>1.753172e+06</td>\n",
              "      <td>1.213966e+05</td>\n",
              "      <td>104.131144</td>\n",
              "      <td>3.603394e+05</td>\n",
              "      <td>3.728018e+06</td>\n",
              "      <td>1.000000</td>\n",
              "      <td>2.000000</td>\n",
              "      <td>1.000000</td>\n",
              "      <td>0.000000</td>\n",
              "      <td>0.000000</td>\n",
              "      <td>0.000000</td>\n",
              "      <td>0.000000</td>\n",
              "      <td>79.065900</td>\n",
              "      <td>1.000000</td>\n",
              "      <td>0.000000</td>\n",
              "      <td>0.000000</td>\n",
              "      <td>0.000000</td>\n",
              "      <td>5200.000000</td>\n",
              "      <td>26050.000000</td>\n",
              "      <td>13.000000</td>\n",
              "      <td>2.000000</td>\n",
              "      <td>3.000000</td>\n",
              "      <td>6.000000</td>\n",
              "      <td>7.524568e+05</td>\n",
              "    </tr>\n",
              "    <tr>\n",
              "      <th>max</th>\n",
              "      <td>2.000000</td>\n",
              "      <td>511.000000</td>\n",
              "      <td>36.000000</td>\n",
              "      <td>7.656120e+16</td>\n",
              "      <td>2990.560394</td>\n",
              "      <td>2.000000</td>\n",
              "      <td>2.202346e+07</td>\n",
              "      <td>3.964645e+07</td>\n",
              "      <td>24111.819781</td>\n",
              "      <td>1.104564e+07</td>\n",
              "      <td>1.203440e+07</td>\n",
              "      <td>4.000000</td>\n",
              "      <td>6.000000</td>\n",
              "      <td>1.000000</td>\n",
              "      <td>1.000000</td>\n",
              "      <td>1.000000</td>\n",
              "      <td>1.000000</td>\n",
              "      <td>1.000000</td>\n",
              "      <td>545.034851</td>\n",
              "      <td>5.000000</td>\n",
              "      <td>4.000000</td>\n",
              "      <td>5.000000</td>\n",
              "      <td>5.000000</td>\n",
              "      <td>8850.000000</td>\n",
              "      <td>36150.000000</td>\n",
              "      <td>41.000000</td>\n",
              "      <td>11.000000</td>\n",
              "      <td>14.000000</td>\n",
              "      <td>22.000000</td>\n",
              "      <td>5.170168e+06</td>\n",
              "    </tr>\n",
              "  </tbody>\n",
              "</table>\n",
              "</div>"
            ],
            "text/plain": [
              "       InternalTeamId       MatchId  ...  MatchHeadshots  AvgMatchKillDist\n",
              "count    79157.000000  79157.000000  ...    79157.000000      7.915700e+04\n",
              "mean         1.500006    250.525033  ...        3.858484      6.288927e+05\n",
              "std          0.500003    149.557804  ...        3.246752      3.402574e+05\n",
              "min          1.000000      4.000000  ...        0.000000      0.000000e+00\n",
              "25%          1.000000    128.000000  ...        1.000000      4.097790e+05\n",
              "50%          2.000000    236.000000  ...        3.000000      5.542432e+05\n",
              "75%          2.000000    373.000000  ...        6.000000      7.524568e+05\n",
              "max          2.000000    511.000000  ...       22.000000      5.170168e+06\n",
              "\n",
              "[8 rows x 30 columns]"
            ]
          },
          "metadata": {
            "tags": []
          },
          "execution_count": 76
        }
      ]
    },
    {
      "cell_type": "markdown",
      "metadata": {
        "id": "ai9z7K9XuvOn"
      },
      "source": [
        "Con la función Value_counts() contamos los valores unicos del Dataframe, ordenados de mayor a menor y así obtenemos la moda"
      ]
    },
    {
      "cell_type": "code",
      "metadata": {
        "id": "I0heO9TgdVyL"
      },
      "source": [
        "df['RoundKills'].value_counts()"
      ],
      "execution_count": null,
      "outputs": []
    },
    {
      "cell_type": "markdown",
      "metadata": {
        "id": "E1uGwwa6vADq"
      },
      "source": [
        "A continuación obtenemos la Varianza, la cual nos mostrará la dispersión de los datos."
      ]
    },
    {
      "cell_type": "code",
      "metadata": {
        "colab": {
          "base_uri": "https://localhost:8080/"
        },
        "id": "5x7EVi_BMyMl",
        "outputId": "14438dc2-16ef-49a4-ff03-499feaefc0a5"
      },
      "source": [
        "df['RoundKills'].var()"
      ],
      "execution_count": 58,
      "outputs": [
        {
          "output_type": "execute_result",
          "data": {
            "text/plain": [
              "0.7775677545186217"
            ]
          },
          "metadata": {
            "tags": []
          },
          "execution_count": 58
        }
      ]
    },
    {
      "cell_type": "markdown",
      "metadata": {
        "id": "QfC48rb8vZNt"
      },
      "source": [
        "Generamos la matriz de correlación con la función corr(), la cuál nos permitirá determinar la relación de las características."
      ]
    },
    {
      "cell_type": "code",
      "metadata": {
        "id": "2NIsaN1h9F_h"
      },
      "source": [
        "df.corr()"
      ],
      "execution_count": null,
      "outputs": []
    },
    {
      "cell_type": "markdown",
      "metadata": {
        "id": "KghgcP5avqb_"
      },
      "source": [
        "Para representar gráficamente la matriz anterior, creamos un gráfico de figura la cual permite ver con colores la correlación de las características."
      ]
    },
    {
      "cell_type": "code",
      "metadata": {
        "colab": {
          "base_uri": "https://localhost:8080/",
          "height": 292
        },
        "id": "PjrJNqhz955M",
        "outputId": "583c79cf-6435-480e-cf2b-953c70ba762d"
      },
      "source": [
        "plt.matshow(df.corr())"
      ],
      "execution_count": 77,
      "outputs": [
        {
          "output_type": "execute_result",
          "data": {
            "text/plain": [
              "<matplotlib.image.AxesImage at 0x7f93ce235310>"
            ]
          },
          "metadata": {
            "tags": []
          },
          "execution_count": 77
        },
        {
          "output_type": "display_data",
          "data": {
            "image/png": "[encoded data removed]",
            "text/plain": [
              "<Figure size 288x288 with 1 Axes>"
            ]
          },
          "metadata": {
            "tags": [],
            "needs_background": "light"
          }
        }
      ]
    },
    {
      "cell_type": "markdown",
      "metadata": {
        "id": "vPqk2_WTwPFb"
      },
      "source": [
        "Al ser muchos datos de correlación, procedemos a filtrar con una condición. Ya que queremos ver solo los datos que presentan un correlación directa y con pendiente positiva. Para esto filtramos a solo los valores mayores a 0.6"
      ]
    },
    {
      "cell_type": "code",
      "metadata": {
        "id": "VQCmfZa2UqVx"
      },
      "source": [
        "correlacion_mat = df.corr()\n",
        "\n",
        "correlacion_pares = correlacion_mat.unstack()\n",
        "\n",
        "pares_ordenados = correlacion_pares.sort_values(kind=\"quicksort\")\n",
        "\n",
        "pares_positivos = pares_ordenados[pares_ordenados > 0.6]\n",
        "\n",
        "print(pares_positivos)"
      ],
      "execution_count": null,
      "outputs": []
    },
    {
      "cell_type": "markdown",
      "metadata": {
        "id": "V0nJFT59wr5e"
      },
      "source": [
        "En el siguiente histograma, vemos la característica 'RoundKills'. El cual lo realizamos con 5 intervalos o bins. El histograma nos muestra la cantidad Kills por rondas."
      ]
    },
    {
      "cell_type": "code",
      "metadata": {
        "colab": {
          "base_uri": "https://localhost:8080/",
          "height": 294
        },
        "id": "n2pf-AZB440F",
        "outputId": "d79a3015-22bf-4cf8-91f1-cfcb31788cb4"
      },
      "source": [
        "x = df['RoundKills']\n",
        "\n",
        "num_bins = 5\n",
        "\n",
        "plt.hist(x, num_bins,edgecolor='black')\n",
        "\n",
        "plt.xlabel('Cantidad de Kills')\n",
        "plt.ylabel('Cantidad de observaciones')\n",
        "plt.title('Histograma de Kills por Rondas')\n",
        "\n",
        "plt.show()"
      ],
      "execution_count": 82,
      "outputs": [
        {
          "output_type": "display_data",
          "data": {
            "image/png": "[encoded data removed]",
            "text/plain": [
              "<Figure size 432x288 with 1 Axes>"
            ]
          },
          "metadata": {
            "tags": [],
            "needs_background": "light"
          }
        }
      ]
    },
    {
      "cell_type": "markdown",
      "metadata": {
        "id": "kO0XVtLbxydi"
      },
      "source": [
        "EL siguiente diagrama de Caja nos muestra los cuartiles, los valores atipicos, la media y los valores maximos y minimos."
      ]
    },
    {
      "cell_type": "code",
      "metadata": {
        "id": "xAGVsGuErKYa"
      },
      "source": [
        "plt.boxplot(list(df['RoundKills']))\n",
        "plt.show()"
      ],
      "execution_count": null,
      "outputs": []
    },
    {
      "cell_type": "markdown",
      "metadata": {
        "id": "AgxRBZ1nx93r"
      },
      "source": [
        "Para realizar un diagrama de dispersión, calculamos la varianza, la covarianza  y la media de las características que utilizaremos."
      ]
    },
    {
      "cell_type": "code",
      "metadata": {
        "colab": {
          "base_uri": "https://localhost:8080/"
        },
        "id": "1Eo7xq1kYuGB",
        "outputId": "88e2fd67-9985-47d3-911d-91ba21afb88a"
      },
      "source": [
        "df['MatchHeadshots'].var()"
      ],
      "execution_count": 66,
      "outputs": [
        {
          "output_type": "execute_result",
          "data": {
            "text/plain": [
              "10.541395917206147"
            ]
          },
          "metadata": {
            "tags": []
          },
          "execution_count": 66
        }
      ]
    },
    {
      "cell_type": "code",
      "metadata": {
        "colab": {
          "base_uri": "https://localhost:8080/"
        },
        "id": "z1d13WHpYz2V",
        "outputId": "3f497850-6679-44a2-c479-3d4c84732406"
      },
      "source": [
        "df['MatchHeadshots'].std()"
      ],
      "execution_count": 67,
      "outputs": [
        {
          "output_type": "execute_result",
          "data": {
            "text/plain": [
              "3.2467515946259495"
            ]
          },
          "metadata": {
            "tags": []
          },
          "execution_count": 67
        }
      ]
    },
    {
      "cell_type": "code",
      "metadata": {
        "colab": {
          "base_uri": "https://localhost:8080/"
        },
        "id": "QhYyAruvZbCe",
        "outputId": "dd1c4834-0d7b-46a1-f875-daa7968f98b7"
      },
      "source": [
        "df['MatchKills'].var()"
      ],
      "execution_count": 68,
      "outputs": [
        {
          "output_type": "execute_result",
          "data": {
            "text/plain": [
              "38.379006500173716"
            ]
          },
          "metadata": {
            "tags": []
          },
          "execution_count": 68
        }
      ]
    },
    {
      "cell_type": "code",
      "metadata": {
        "colab": {
          "base_uri": "https://localhost:8080/"
        },
        "id": "svllg5yHZbX8",
        "outputId": "ee5f3889-b516-4350-a8ce-a7c44fd07de0"
      },
      "source": [
        "df['MatchKills'].std()"
      ],
      "execution_count": 69,
      "outputs": [
        {
          "output_type": "execute_result",
          "data": {
            "text/plain": [
              "6.195079216618115"
            ]
          },
          "metadata": {
            "tags": []
          },
          "execution_count": 69
        }
      ]
    },
    {
      "cell_type": "code",
      "metadata": {
        "colab": {
          "base_uri": "https://localhost:8080/"
        },
        "id": "HCLRziKkaaSH",
        "outputId": "65689d68-8074-4ee1-d5b5-c2466dc93f28"
      },
      "source": [
        "df['MatchKills'].mean()"
      ],
      "execution_count": 84,
      "outputs": [
        {
          "output_type": "execute_result",
          "data": {
            "text/plain": [
              "8.511578255871243"
            ]
          },
          "metadata": {
            "tags": []
          },
          "execution_count": 84
        }
      ]
    },
    {
      "cell_type": "code",
      "metadata": {
        "colab": {
          "base_uri": "https://localhost:8080/"
        },
        "id": "taXZDP5myZ1n",
        "outputId": "453b0294-e24f-40d3-dfc5-82632ffa3bce"
      },
      "source": [
        "df['MatchHeadshots'].mean()"
      ],
      "execution_count": 85,
      "outputs": [
        {
          "output_type": "execute_result",
          "data": {
            "text/plain": [
              "3.85848377275541"
            ]
          },
          "metadata": {
            "tags": []
          },
          "execution_count": 85
        }
      ]
    },
    {
      "cell_type": "markdown",
      "metadata": {
        "id": "O-tRMB4yyknZ"
      },
      "source": [
        "Con los datos obtenidos, realizamos el diagrama de dispersión e interpretamos el gráfico."
      ]
    },
    {
      "cell_type": "code",
      "metadata": {
        "colab": {
          "base_uri": "https://localhost:8080/",
          "height": 296
        },
        "id": "Ye8Vy7Mh-16M",
        "outputId": "6757445d-9288-4d80-a7b9-2a880563e64d"
      },
      "source": [
        "plt.plot(df['MatchKills'],df['MatchHeadshots'], 'ro')\n",
        "plt.xlabel('Kills por Partida')\n",
        "plt.ylabel('Tiros a la cabeza por Partida')"
      ],
      "execution_count": 83,
      "outputs": [
        {
          "output_type": "execute_result",
          "data": {
            "text/plain": [
              "Text(0, 0.5, 'Tiros a la cabeza por Partida')"
            ]
          },
          "metadata": {
            "tags": []
          },
          "execution_count": 83
        },
        {
          "output_type": "display_data",
          "data": {
            "image/png": "[encoded data removed]",
            "text/plain": [
              "<Figure size 432x288 with 1 Axes>"
            ]
          },
          "metadata": {
            "tags": [],
            "needs_background": "light"
          }
        }
      ]
    }
  ]
}